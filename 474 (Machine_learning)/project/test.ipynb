{
 "cells": [
  {
   "cell_type": "code",
   "execution_count": null,
   "metadata": {},
   "outputs": [],
   "source": [
    "import pandas as pd\n",
    "\n",
    "# 데이터 파일 경로\n",
    "fruit_price_filepath = 'FruitPrices2020.csv'\n",
    "weather_data_filepath = 'data_2022.csv'\n",
    "\n",
    "# 데이터 불러오기\n",
    "fruit_price_data = pd.read_csv(fruit_price_filepath)\n",
    "weather_data = pd.read_csv(weather_data_filepath)\n"
   ]
  },
  {
   "cell_type": "code",
   "execution_count": null,
   "metadata": {},
   "outputs": [],
   "source": [
    "# 날짜 형식으로 변환\n",
    "fruit_price_data['Date'] = pd.to_datetime(fruit_price_data['Date'])\n",
    "weather_data['Date'] = pd.to_datetime(weather_data['Date'])\n",
    "\n",
    "# 두 데이터셋을 날짜를 기준으로 병합\n",
    "merged_data = pd.merge(fruit_price_data, weather_data, on='Date')\n",
    "\n",
    "# 필요없는 열 제거\n",
    "cleaned_data = merged_data.drop(columns=['Unnecessary_Column'])\n"
   ]
  },
  {
   "cell_type": "code",
   "execution_count": null,
   "metadata": {},
   "outputs": [],
   "source": [
    "from sklearn.model_selection import train_test_split\n",
    "from sklearn.linear_model import LinearRegression\n",
    "from sklearn.metrics import mean_squared_error\n",
    "\n",
    "# 특성과 레이블 분리\n",
    "X = cleaned_data.drop(columns=['Future_Fruit_Price'])\n",
    "y = cleaned_data['Future_Fruit_Price']\n",
    "\n",
    "# 훈련 세트와 테스트 세트 분리\n",
    "X_train, X_test, y_train, y_test = train_test_split(X, y, test_size=0.2, random_state=42)\n",
    "\n",
    "# 선형 회귀 모델 학습\n",
    "lr = LinearRegression()\n",
    "lr.fit(X_train, y_train)\n",
    "\n",
    "# 예측 및 평가\n",
    "y_pred = lr.predict(X_test)\n",
    "mse = mean_squared_error(y_test, y_pred)\n",
    "print(f'Mean Squared Error: {mse}')\n"
   ]
  },
  {
   "cell_type": "code",
   "execution_count": null,
   "metadata": {},
   "outputs": [],
   "source": [
    "# 미래의 기상 데이터\n",
    "future_weather_data = pd.read_csv('path_to_future_weather_data.csv')\n",
    "\n",
    "# 가격 예측\n",
    "future_fruit_prices = lr.predict(future_weather_data)\n"
   ]
  }
 ],
 "metadata": {
  "kernelspec": {
   "display_name": "Python 3",
   "language": "python",
   "name": "python3"
  },
  "language_info": {
   "name": "python",
   "version": "3.10.8"
  }
 },
 "nbformat": 4,
 "nbformat_minor": 2
}
