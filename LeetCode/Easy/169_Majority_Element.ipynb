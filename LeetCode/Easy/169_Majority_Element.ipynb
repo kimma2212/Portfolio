{
 "cells": [
  {
   "cell_type": "code",
   "execution_count": null,
   "id": "cd64da5c",
   "metadata": {},
   "outputs": [],
   "source": [
    "#Original approach\n",
    "\n",
    "from typing import List\n",
    "\n",
    "\n",
    "\n",
    "\n",
    "def majorityElement(nums: List[int]) -> int:\n",
    "    counter = {}\n",
    "    for num in nums:\n",
    "        if num in counter:\n",
    "            counter[num] += 1\n",
    "        else:\n",
    "            counter[num] = 1\n",
    "    \n",
    "\n",
    "\n",
    "    return max(counter, key=counter.get)\n",
    "\n",
    "\n",
    "\n",
    "\n",
    "nums = [3,2,3]\n",
    "\n",
    "print(majorityElement(nums))"
   ]
  },
  {
   "cell_type": "code",
   "execution_count": null,
   "id": "aacf4881",
   "metadata": {},
   "outputs": [],
   "source": []
  },
  {
   "cell_type": "code",
   "execution_count": null,
   "id": "7e7c5f91",
   "metadata": {},
   "outputs": [],
   "source": []
  }
 ],
 "metadata": {
  "language_info": {
   "name": "python"
  }
 },
 "nbformat": 4,
 "nbformat_minor": 5
}
